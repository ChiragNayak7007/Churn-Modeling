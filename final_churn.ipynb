{
 "cells": [
  {
   "cell_type": "markdown",
   "metadata": {
    "collapsed": true
   },
   "source": [
    "# Churn Modeling and Analysis"
   ]
  },
  {
   "cell_type": "code",
   "execution_count": null,
   "metadata": {},
   "outputs": [],
   "source": [
    "import pandas as pd\n",
    "import  numpy as np\n",
    "from sklearn.linear_model import LogisticRegression\n",
    "#from sklearn import preprocessing, cross_validation\n",
    "from sklearn.ensemble import GradientBoostingClassifier\n",
    "from sklearn.model_selection import train_test_split\n",
    "import matplotlib.pyplot as plt\n",
    "from matplotlib import style\n",
    "from sklearn.metrics import confusion_matrix\n",
    "import seaborn as sns\n",
    "from sklearn.metrics import accuracy_score\n",
    "from sklearn.svm import LinearSVC\n",
    "style.use('ggplot')\n",
    "%matplotlib inline\n",
    "import plotly.plotly as py\n",
    "from sklearn.ensemble import RandomForestClassifier\n",
    "import plotly.tools as tls\n",
    "from sklearn.metrics import confusion_matrix\n",
    "import seaborn as sns\n",
    "from sklearn.naive_bayes import GaussianNB\n",
    "from sklearn import metrics"
   ]
  },
  {
   "cell_type": "markdown",
   "metadata": {},
   "source": [
    "### Loading dataset"
   ]
  },
  {
   "cell_type": "code",
   "execution_count": 78,
   "metadata": {},
   "outputs": [
    {
     "name": "stdout",
     "output_type": "stream",
     "text": [
      "(5000, 21)\n"
     ]
    }
   ],
   "source": [
    "directory = \"D:\\churn_modeling\"\n",
    "churn_train_df = pd.read_csv(directory + \"\\dataset\\churn.csv\")\n",
    "print(churn_train_df.shape)"
   ]
  },
  {
   "cell_type": "markdown",
   "metadata": {},
   "source": [
    "### Understanding the data in dataset: Data Exploration "
   ]
  },
  {
   "cell_type": "markdown",
   "metadata": {},
   "source": [
    "Data exploration is the first step in data analysis and typically involves summarizing the main characteristics of a dataset. It is commonly conducted using visual analytics tools, but can also be done in more advanced statistical software.\n",
    "\n",
    "We can do data exploration in Python, R which are advance statistical software.\n",
    "In general and easy way is to use visual analytics tool/ reporting tools like PowerBI, Tableau, Zoho, Excel, etc.   "
   ]
  },
  {
   "cell_type": "markdown",
   "metadata": {},
   "source": [
    "Step 1) Understand all the colums in dataset\n",
    "  \n",
    "This helps in identify the required features which should be used for modeling\n",
    "\n",
    "Lets look at the headers in the data set\n",
    "\n",
    "\n"
   ]
  },
  {
   "cell_type": "code",
   "execution_count": 79,
   "metadata": {},
   "outputs": [],
   "source": [
    "# state, -> They are state code (2 character)\n",
    "# account length,\n",
    "# area code,\n",
    "# phone number, -> can be used as customer identifier (not part of feature)\n",
    "# international plan, => yes no\n",
    "# voice mail  plan,  => yes no\n",
    "# number vmail messages,   -> vmail is voice-mail\n",
    "# total day minutes,\n",
    "# total day calls,\n",
    "# total day charge,\n",
    "# total eve minutes,\n",
    "# total eve calls,\n",
    "# total eve charge,\n",
    "# total night minutes,\n",
    "# total night calls,\n",
    "# total night charge,\n",
    "# total intl minutes,\n",
    "# total intl calls,\n",
    "# total intl charge,   intl -> international\n",
    "# customer service calls, -> call made to customer service center\n",
    "# churn -> Label which we need to predict in future\n"
   ]
  },
  {
   "cell_type": "markdown",
   "metadata": {},
   "source": [
    "Step 2) Feature Analysis \n",
    "  \n",
    "This helps in identify the required features, completeness of data, clearity of data, making statergy to improve data quality etc.  \n",
    "\n"
   ]
  },
  {
   "cell_type": "code",
   "execution_count": 80,
   "metadata": {},
   "outputs": [
    {
     "name": "stdout",
     "output_type": "stream",
     "text": [
      "state                     0\naccount length            0\narea code                 0\nphone number              0\ninternational plan        0\nvoice mail plan           0\nnumber vmail messages     0\ntotal day minutes         0\ntotal day calls           0\ntotal day charge          0\ntotal eve minutes         0\ntotal eve calls           0\ntotal eve charge          0\ntotal night minutes       0\ntotal night calls         0\ntotal night charge        0\ntotal intl minutes        0\ntotal intl calls          0\ntotal intl charge         0\ncustomer service calls    0\nchurn                     4\ndtype: int64\n"
     ]
    }
   ],
   "source": [
    "# check the training set for any null value if any\n",
    "print(churn_train_df.isnull().sum())"
   ]
  },
  {
   "cell_type": "code",
   "execution_count": 81,
   "metadata": {},
   "outputs": [],
   "source": [
    "# Now for this data set we don't have much null value so we don't have much issues with data completeness quality\n",
    "# if in case we have some/many NULLs the we need to fill the NULLs with some value that depends on the type of data\n",
    "# which we need to identify by going through data and understanding required pattern and fill missing data.\n",
    "# There are many approach \n",
    "# 1) Manually adding required details from actual data gather from research \n",
    "# 2) We may replace by some aggregation \n",
    "# 3) We may fill with outlander  value such as -99999 if int or some default value\n",
    "# Mostly try to fill the values if possible rather then removing those columns/ rows\n",
    "\n",
    "# In our case only one value is missing from churn column which we can easily assume that that client has churned \n",
    "\n",
    "churn_train_df.churn.fillna('TRUE', inplace = True)\n"
   ]
  },
  {
   "cell_type": "code",
   "execution_count": 82,
   "metadata": {},
   "outputs": [
    {
     "name": "stdout",
     "output_type": "stream",
     "text": [
      "state                     0\naccount length            0\narea code                 0\nphone number              0\ninternational plan        0\nvoice mail plan           0\nnumber vmail messages     0\ntotal day minutes         0\ntotal day calls           0\ntotal day charge          0\ntotal eve minutes         0\ntotal eve calls           0\ntotal eve charge          0\ntotal night minutes       0\ntotal night calls         0\ntotal night charge        0\ntotal intl minutes        0\ntotal intl calls          0\ntotal intl charge         0\ncustomer service calls    0\nchurn                     0\ndtype: int64\n"
     ]
    }
   ],
   "source": [
    "# Again check the training set for any null value if any\n",
    "print(churn_train_df.isnull().sum())"
   ]
  },
  {
   "cell_type": "markdown",
   "metadata": {},
   "source": [
    "### Preparing the data for research and modeling "
   ]
  },
  {
   "cell_type": "code",
   "execution_count": 83,
   "metadata": {},
   "outputs": [],
   "source": [
    "# First we need to convert our String labels to Numerical value ie  YES as 1 and NO as 0 likewise TRUE as 1, FALSE as 0\n",
    "try:\n",
    "    churn_train_df['voice mail plan'] = churn_train_df['voice mail plan'].replace([\"yes\", \"no\"], [1, 0])\n",
    "    churn_train_df['international plan'] = churn_train_df['international plan'].replace([\"yes\", \"no\"], [1, 0])\n",
    "    churn_train_df['churn'] = churn_train_df['churn'].replace([\"TRUE\", \"FALSE\",\" TRUE\", \" FALSE\",\" TRUE \", \" FALSE \"],\n",
    "                                                              [1,0,1,0,1,0])\n",
    "\n",
    "    # converting boolean column to 1 AND 0\n",
    "    churn_train_df.churn = churn_train_df.churn * 1\n",
    "except TypeError:\n",
    "    print(\"Already converted\")"
   ]
  },
  {
   "cell_type": "code",
   "execution_count": 84,
   "metadata": {},
   "outputs": [],
   "source": [
    "# Now need to convert state  to numeric as this my also play important role in data modeling\n",
    "state_list = list(churn_train_df['state'].unique())\n",
    "churn_train_df.state = churn_train_df.state.apply(state_list.index)"
   ]
  },
  {
   "cell_type": "markdown",
   "metadata": {},
   "source": [
    "### We need to check how balance is this data set "
   ]
  },
  {
   "cell_type": "code",
   "execution_count": 85,
   "metadata": {},
   "outputs": [
    {
     "name": "stdout",
     "output_type": "stream",
     "text": [
      "people churn: 14 %\n"
     ]
    }
   ],
   "source": [
    "col = churn_train_df.columns.tolist()\n",
    "print(\"people churn: {} %\".format(round(float(len(churn_train_df[churn_train_df['churn'] == 1])) / len(churn_train_df) * 100), 3))"
   ]
  },
  {
   "cell_type": "markdown",
   "metadata": {},
   "source": [
    "#### The data set is unbalanced "
   ]
  },
  {
   "cell_type": "code",
   "execution_count": 86,
   "metadata": {},
   "outputs": [],
   "source": [
    "# Possible columns which we can consider as feature are state,international plan,voice mail plan,day calls,day charges\n",
    "# eve calls,eve charges, night calls, night charges, intl calls,intl charges,customer service calls,num vmail messages\n",
    "\n",
    "heads = [\"state\", \"international plan\", \"voice mail plan\", \"number vmail messages\", \"total day calls\",\n",
    "                            \"total day charge\", \"total eve calls\", \"total eve charge\", \"total night calls\",\n",
    "                            \"total night charge\", \"total intl calls\", \"total intl charge\",\"customer service calls\",\n",
    "                            \"churn\"]\n",
    "\n",
    "train_set = churn_train_df[heads]\n"
   ]
  },
  {
   "cell_type": "code",
   "execution_count": 87,
   "metadata": {},
   "outputs": [
    {
     "name": "stdout",
     "output_type": "stream",
     "text": [
      "   state  account length  area code phone number  international plan  \\\n0      0             128        415     382-4657                   0   \n1      1             107        415     371-7191                   0   \n2      2             137        415     358-1921                   0   \n\n   voice mail plan  number vmail messages  total day minutes  total day calls  \\\n0                1                     25              265.1              110   \n1                1                     26              161.6              123   \n2                0                      0              243.4              114   \n\n   total day charge  ...    total eve calls  total eve charge  \\\n0             45.07  ...                 99             16.78   \n1             27.47  ...                103             16.62   \n2             41.38  ...                110             10.30   \n\n   total night minutes  total night calls  total night charge  \\\n0                244.7                 91               11.01   \n1                254.4                103               11.45   \n2                162.6                104                7.32   \n\n   total intl minutes  total intl calls  total intl charge  \\\n0                10.0                 3               2.70   \n1                13.7                 3               3.70   \n2                12.2                 5               3.29   \n\n   customer service calls  churn  \n0                       1      0  \n1                       1      0  \n2                       0      0  \n\n[3 rows x 21 columns]\n"
     ]
    }
   ],
   "source": [
    "print(churn_train_df.head(3))"
   ]
  },
  {
   "cell_type": "code",
   "execution_count": 88,
   "metadata": {},
   "outputs": [
    {
     "name": "stdout",
     "output_type": "stream",
     "text": [
      "[0 1]\n[1 0]\n[0 1]\n[ 0  1  2  3  4  5  6  7  8  9 10 11 12 13 14 15 16 17 18 19 20 21 22 23 24\n 25 26 27 28 29 30 31 32 33 34 35 36 37 38 39 40 41 42 43 44 45 46 47 48 49\n 50]\n"
     ]
    }
   ],
   "source": [
    "# Always Check if the data transformation happened as required  \n",
    "\n",
    "print(churn_train_df['international plan'].unique())\n",
    "print(churn_train_df['voice mail plan'].unique())\n",
    "print(churn_train_df['churn'].unique())\n",
    "print(churn_train_df['state'].unique())\n"
   ]
  },
  {
   "cell_type": "markdown",
   "metadata": {},
   "source": [
    "## Understanding Data\n"
   ]
  },
  {
   "cell_type": "code",
   "execution_count": 92,
   "metadata": {},
   "outputs": [
    {
     "data": {
      "image/png": "[encoded data removed]",
      "text/plain": [
       "<matplotlib.figure.Figure at 0xd9cdac8>"
      ]
     },
     "metadata": {},
     "output_type": "display_data"
    }
   ],
   "source": [
    "state_churn = train_set.groupby(['state', 'churn'], sort=True).size().reset_index(name='Count')\n",
    "\n",
    "state_churn_0 = state_churn[state_churn['churn'] == 0].reset_index()\n",
    "del state_churn_0['index']\n",
    "\n",
    "state_churn_1 = state_churn[state_churn['churn'] == 1].reset_index()\n",
    "del state_churn_1['index']\n",
    "\n",
    "ax = state_churn_1['Count'].plot(kind='bar', title =\"Customer Churn based on States\", figsize=(12, 8), fontsize=12)\n",
    "ax.set_xlabel(\"States\", fontsize=12)\n",
    "ax.set_ylabel(\"Count of Churn\", fontsize=12)\n",
    "plt.show()"
   ]
  },
  {
   "cell_type": "code",
   "execution_count": 94,
   "metadata": {},
   "outputs": [
    {
     "data": {
      "image/png": "[encoded data removed]",
      "text/plain": [
       "<matplotlib.figure.Figure at 0xb296630>"
      ]
     },
     "metadata": {},
     "output_type": "display_data"
    }
   ],
   "source": [
    "\n",
    "ax = state_churn_0['Count'].plot(kind='bar', title =\"Loyal Customer based on States\", figsize=(12, 8), fontsize=12)\n",
    "ax.set_xlabel(\"States\", fontsize=12)\n",
    "ax.set_ylabel(\"Count of Alive\", fontsize=12)\n",
    "plt.tight_layout()"
   ]
  },
  {
   "cell_type": "markdown",
   "metadata": {},
   "source": [
    "### Best way is to use some Visualization tools to quickly understand relations But we can also use matplotlib - python library to identify patterns.  "
   ]
  },
  {
   "cell_type": "markdown",
   "metadata": {},
   "source": [
    "# Modeling using different available Models"
   ]
  },
  {
   "cell_type": "markdown",
   "metadata": {},
   "source": [
    "### As it dataset is unbalanced so we can't completely depend on accuracy, as in worst case the accuracy of data set will give 86% accuracy due to  Accuracy paradox"
   ]
  },
  {
   "cell_type": "markdown",
   "metadata": {},
   "source": [
    "### Linear Support Vector Classifier "
   ]
  },
  {
   "cell_type": "code",
   "execution_count": 97,
   "metadata": {},
   "outputs": [
    {
     "name": "stdout",
     "output_type": "stream",
     "text": [
      "Accuracy:   0.8704\n"
     ]
    },
    {
     "name": "stdout",
     "output_type": "stream",
     "text": [
      "             precision    recall  f1-score   support\n\n          0       0.88      0.99      0.93      2164\n          1       0.62      0.09      0.16       336\n\navg / total       0.84      0.87      0.83      2500\n\n"
     ]
    },
    {
     "data": {
      "image/png": "[encoded data removed]",
      "text/plain": [
       "<matplotlib.figure.Figure at 0xd241ba8>"
      ]
     },
     "metadata": {},
     "output_type": "display_data"
    }
   ],
   "source": [
    "from sklearn.svm import LinearSVC\n",
    "\n",
    "feature_names  = [\"state\", \"international plan\", \"voice mail plan\", \"number vmail messages\", \"total day calls\",\n",
    "                            \"total day charge\", \"total eve calls\", \"total eve charge\", \"total night calls\",\n",
    "                            \"total night charge\", \"total intl calls\", \"total intl charge\",\"customer service calls\"]\n",
    "\n",
    "clf_init = None\n",
    "X_train, X_test, y_train, y_test = train_test_split(train_set[feature_names],train_set.churn, test_size=0.50,random_state=123456)\n",
    "clf = LinearSVC(penalty='l2', loss='squared_hinge', dual=True, tol=0.0001, C=1.0, multi_class='ovr', fit_intercept=True, intercept_scaling=1, class_weight=None, verbose=0, random_state=None, max_iter=1000)\n",
    "y_train = y_train.astype('int')\n",
    "y_test = y_test.astype('int')\n",
    "clf.fit(X_train, y_train)\n",
    "churn_col = ['Alive','Churned']\n",
    "predicted = clf.predict(X_test)\n",
    "accuracy = accuracy_score(y_test, predicted)\n",
    "print(\"Accuracy:   \" + str(accuracy))\n",
    "cm = pd.DataFrame(confusion_matrix(y_test, predicted), columns= churn_col, index=churn_col)\n",
    "sns.heatmap(cm, annot=True)\n",
    "print(metrics.classification_report(y_test, predicted))\n",
    "\n",
    "# storing matix\n",
    "svm_accuracy = metrics.accuracy_score(y_test, predicted)  \n",
    "svm_confus_matrix = metrics.confusion_matrix(y_test, predicted)  \n",
    "svm_classification_report = metrics.classification_report(y_test, predicted)  \n",
    "svm_precision = metrics.precision_score(y_test, predicted, pos_label=1)  \n",
    "svm_recall = metrics.recall_score(y_test, predicted, pos_label=1)  \n",
    "svm_f1 = metrics.f1_score(y_test, predicted, pos_label=1)\n"
   ]
  },
  {
   "cell_type": "markdown",
   "metadata": {},
   "source": [
    "### Gaussian Naive Bayes Classifier "
   ]
  },
  {
   "cell_type": "code",
   "execution_count": 98,
   "metadata": {},
   "outputs": [
    {
     "name": "stdout",
     "output_type": "stream",
     "text": [
      "Accuracy:   0.8704\n"
     ]
    },
    {
     "name": "stdout",
     "output_type": "stream",
     "text": [
      "             precision    recall  f1-score   support\n\n          0       0.88      0.99      0.93      2164\n          1       0.62      0.09      0.16       336\n\navg / total       0.84      0.87      0.83      2500\n\n"
     ]
    },
    {
     "data": {
      "image/png": "[encoded data removed]",
      "text/plain": [
       "<matplotlib.figure.Figure at 0xde364a8>"
      ]
     },
     "metadata": {},
     "output_type": "display_data"
    }
   ],
   "source": [
    "gnb = GaussianNB()\n",
    "clf_init = None\n",
    "X_train, X_test, y_train, y_test = train_test_split(train_set[feature_names],train_set.churn, test_size=0.50,random_state=123456)\n",
    "gnb = GaussianNB()\n",
    "y_train = y_train.astype('int')\n",
    "y_test = y_test.astype('int')\n",
    "gnb.fit(X_train, y_train)\n",
    "churn_col = ['Alive','Churned']\n",
    "predicted = clf.predict(X_test)\n",
    "accuracy = accuracy_score(y_test, predicted)\n",
    "print(\"Accuracy:   \" + str(accuracy))\n",
    "cm = pd.DataFrame(confusion_matrix(y_test, predicted), columns= churn_col, index=churn_col)\n",
    "sns.heatmap(cm, annot=True)\n",
    "print(metrics.classification_report(y_test, predicted))\n",
    "\n",
    "# storing matrix\n",
    "bayes_accuracy = metrics.accuracy_score(y_test, predicted)  \n",
    "bayes_confus_matrix = metrics.confusion_matrix(y_test, predicted)  \n",
    "bayes_classification_report = metrics.classification_report(y_test, predicted)  \n",
    "bayes_precision = metrics.precision_score(y_test, predicted, pos_label=1)  \n",
    "bayes_recall = metrics.recall_score(y_test, predicted, pos_label=1)  \n",
    "bayes_f1 = metrics.f1_score(y_test, predicted, pos_label=1)"
   ]
  },
  {
   "cell_type": "markdown",
   "metadata": {},
   "source": [
    "### Gradient Boosting Classifier\n"
   ]
  },
  {
   "cell_type": "code",
   "execution_count": 99,
   "metadata": {},
   "outputs": [
    {
     "name": "stdout",
     "output_type": "stream",
     "text": [
      "      Iter       Train Loss      OOB Improve   Remaining Time \n         1           0.3304           0.3164            0.04s\n         2           0.3211           0.0012            0.03s\n         3           0.3135          -0.0384            0.02s\n         4           0.4032          -0.0343            0.01s\n         5           0.3441          -0.1633            0.01s\n         6           0.4666          -0.0080            0.00s\nAccuracy:   0.9056\n             precision    recall  f1-score   support\n\n          0       0.94      0.95      0.95      2164\n          1       0.66      0.63      0.64       336\n\navg / total       0.90      0.91      0.90      2500\n"
     ]
    },
    {
     "name": "stdout",
     "output_type": "stream",
     "text": [
      "\n"
     ]
    },
    {
     "data": {
      "image/png": "[encoded data removed]",
      "text/plain": [
       "<matplotlib.figure.Figure at 0xd227eb8>"
      ]
     },
     "metadata": {},
     "output_type": "display_data"
    }
   ],
   "source": [
    "feature_names  = [\"state\", \"international plan\", \"voice mail plan\", \"number vmail messages\", \"total day calls\",\n",
    "                            \"total day charge\", \"total eve calls\", \"total eve charge\", \"total night calls\",\n",
    "                            \"total night charge\", \"total intl calls\", \"total intl charge\",\"customer service calls\"]\n",
    "\n",
    "clf_init = None\n",
    "X_train, X_test, y_train, y_test = train_test_split(train_set[feature_names],train_set.churn, test_size=0.50,random_state=123456)\n",
    "\n",
    "clf = GradientBoostingClassifier(loss='deviance', learning_rate=0.5,\n",
    "                             n_estimators=6, subsample=0.3,\n",
    "                             min_samples_split=3,\n",
    "                             min_samples_leaf=1,\n",
    "                             max_depth=5,\n",
    "                             init=clf_init,\n",
    "                             random_state=None,\n",
    "                             max_features=None,\n",
    "                             verbose=2)\n",
    "y_train = y_train.astype('int')\n",
    "y_test = y_test.astype('int')\n",
    "\n",
    "clf.fit(X_train, y_train)\n",
    "\n",
    "predicted = clf.predict(X_test)\n",
    "accuracy = accuracy_score(y_test, predicted)\n",
    "print(\"Accuracy:   \" + str(accuracy))\n",
    "cm = pd.DataFrame(confusion_matrix(y_test, predicted), columns= churn_col, index=churn_col)\n",
    "sns.heatmap(cm, annot=True)\n",
    "print(metrics.classification_report(y_test, predicted))\n",
    "\n",
    "\n",
    "# storing matrix\n",
    "gbc_accuracy = metrics.accuracy_score(y_test, predicted)  \n",
    "gbc_confus_matrix = metrics.confusion_matrix(y_test, predicted)  \n",
    "gbc_classification_report = metrics.classification_report(y_test, predicted)  \n",
    "gbc_precision = metrics.precision_score(y_test, predicted, pos_label=1)  \n",
    "gbc_recall = metrics.recall_score(y_test, predicted, pos_label=1)  \n",
    "gbc_f1 = metrics.f1_score(y_test, predicted, pos_label=1)"
   ]
  },
  {
   "cell_type": "markdown",
   "metadata": {},
   "source": [
    "### Logistic Regression as Classifier "
   ]
  },
  {
   "cell_type": "code",
   "execution_count": 100,
   "metadata": {},
   "outputs": [
    {
     "name": "stdout",
     "output_type": "stream",
     "text": [
      "Accuracy:   0.8716\n"
     ]
    },
    {
     "name": "stdout",
     "output_type": "stream",
     "text": [
      "             precision    recall  f1-score   support\n\n          0       0.89      0.98      0.93      2164\n          1       0.57      0.19      0.28       336\n\navg / total       0.84      0.87      0.84      2500\n\n"
     ]
    },
    {
     "data": {
      "image/png": "[encoded data removed]",
      "text/plain": [
       "<matplotlib.figure.Figure at 0xb2fe0b8>"
      ]
     },
     "metadata": {},
     "output_type": "display_data"
    }
   ],
   "source": [
    "clf_init = LogisticRegression(penalty='l1', dual=False, tol=0.001, C=1.4, fit_intercept=True, intercept_scaling=1, class_weight=None, random_state=None, solver='liblinear', max_iter=200, multi_class='ovr', verbose=0, warm_start=False, n_jobs=1)\n",
    "clf_init.fit(X_train, y_train)\n",
    "predicted = clf_init.predict(X_test)\n",
    "accuracy = accuracy_score(y_test, predicted)\n",
    "print(\"Accuracy:   \" + str(accuracy))\n",
    "cm = pd.DataFrame(confusion_matrix(y_test, predicted), columns= churn_col, index=churn_col)\n",
    "sns.heatmap(cm, annot=True)\n",
    "print(metrics.classification_report(y_test, predicted))\n",
    "\n",
    "# Store metrics\n",
    "lrf_accuracy = metrics.accuracy_score(y_test, predicted)  \n",
    "lrf_confus_matrix = metrics.confusion_matrix(y_test, predicted)  \n",
    "lrf_classification_report = metrics.classification_report(y_test, predicted)  \n",
    "lrf_precision = metrics.precision_score(y_test, predicted, pos_label=1)  \n",
    "lrf_recall = metrics.recall_score(y_test, predicted, pos_label=1)  \n",
    "lrf_f1 = metrics.f1_score(y_test, predicted, pos_label=1)\n"
   ]
  },
  {
   "cell_type": "markdown",
   "metadata": {},
   "source": [
    "### Random Forest Classifier "
   ]
  },
  {
   "cell_type": "code",
   "execution_count": 1,
   "metadata": {},
   "outputs": [
    {
     "ename": "NameError",
     "evalue": "name 'train_test_split' is not defined",
     "traceback": [
      "\u001b[1;31m---------------------------------------------------------------------------\u001b[0m",
      "\u001b[1;31mNameError\u001b[0m                                 Traceback (most recent call last)",
      "\u001b[1;32m<ipython-input-1-372a5b469987>\u001b[0m in \u001b[0;36m<module>\u001b[1;34m()\u001b[0m\n\u001b[0;32m      3\u001b[0m                             \"total night charge\", \"total intl calls\", \"total intl charge\",\"customer service calls\"]\n\u001b[0;32m      4\u001b[0m \u001b[1;33m\u001b[0m\u001b[0m\n\u001b[1;32m----> 5\u001b[1;33m \u001b[0mX_train\u001b[0m\u001b[1;33m,\u001b[0m \u001b[0mX_test\u001b[0m\u001b[1;33m,\u001b[0m \u001b[0my_train\u001b[0m\u001b[1;33m,\u001b[0m \u001b[0my_test\u001b[0m \u001b[1;33m=\u001b[0m \u001b[0mtrain_test_split\u001b[0m\u001b[1;33m(\u001b[0m\u001b[0mtrain_set\u001b[0m\u001b[1;33m[\u001b[0m\u001b[0mfeature_names\u001b[0m\u001b[1;33m]\u001b[0m\u001b[1;33m,\u001b[0m\u001b[0mtrain_set\u001b[0m\u001b[1;33m.\u001b[0m\u001b[0mchurn\u001b[0m\u001b[1;33m,\u001b[0m \u001b[0mtest_size\u001b[0m\u001b[1;33m=\u001b[0m\u001b[1;36m0.55\u001b[0m\u001b[1;33m,\u001b[0m\u001b[0mrandom_state\u001b[0m\u001b[1;33m=\u001b[0m\u001b[1;36m123456\u001b[0m\u001b[1;33m)\u001b[0m\u001b[1;33m\u001b[0m\u001b[0m\n\u001b[0m\u001b[0;32m      6\u001b[0m \u001b[0mrf\u001b[0m \u001b[1;33m=\u001b[0m \u001b[0mRandomForestClassifier\u001b[0m\u001b[1;33m(\u001b[0m\u001b[0mn_estimators\u001b[0m\u001b[1;33m=\u001b[0m\u001b[1;36m100\u001b[0m\u001b[1;33m,\u001b[0m \u001b[0moob_score\u001b[0m\u001b[1;33m=\u001b[0m\u001b[1;32mTrue\u001b[0m\u001b[1;33m,\u001b[0m \u001b[0mrandom_state\u001b[0m\u001b[1;33m=\u001b[0m\u001b[1;36m123456\u001b[0m\u001b[1;33m)\u001b[0m\u001b[1;33m\u001b[0m\u001b[0m\n\u001b[0;32m      7\u001b[0m \u001b[0my_train\u001b[0m \u001b[1;33m=\u001b[0m \u001b[0my_train\u001b[0m\u001b[1;33m.\u001b[0m\u001b[0mastype\u001b[0m\u001b[1;33m(\u001b[0m\u001b[1;34m'int'\u001b[0m\u001b[1;33m)\u001b[0m\u001b[1;33m\u001b[0m\u001b[0m\n",
      "\u001b[1;31mNameError\u001b[0m: name 'train_test_split' is not defined"
     ],
     "output_type": "error"
    }
   ],
   "source": [
    "feature_names  = [\"state\", \"international plan\", \"voice mail plan\", \"number vmail messages\", \"total day calls\",\n",
    "                            \"total day charge\", \"total eve calls\", \"total eve charge\", \"total night calls\",\n",
    "                            \"total night charge\", \"total intl calls\", \"total intl charge\",\"customer service calls\"]\n",
    "\n",
    "X_train, X_test, y_train, y_test = train_test_split(train_set[feature_names],train_set.churn, test_size=0.55,random_state=123456)\n",
    "rf = RandomForestClassifier(n_estimators=100, oob_score=True, random_state=123456)\n",
    "y_train = y_train.astype('int')\n",
    "y_test = y_test.astype('int')\n",
    "rf.fit(X_train, y_train)\n",
    "predicted = rf.predict(X_test)\n",
    "accuracy = accuracy_score(y_test, predicted)\n",
    "print(\"Score Estimate:  \" + str(rf.oob_score_))\n",
    "print(\"Accuracy:   \" + str(accuracy))\n",
    "cm = pd.DataFrame(confusion_matrix(y_test, predicted), columns= churn_col, index=churn_col)\n",
    "sns.heatmap(cm, annot=True)\n",
    "print(metrics.classification_report(y_test, predicted))\n",
    "\n",
    "\n",
    "# Store metrics\n",
    "rf_accuracy = metrics.accuracy_score(y_test, predicted)  \n",
    "rf_confus_matrix = metrics.confusion_matrix(y_test, predicted)  \n",
    "rf_classification_report = metrics.classification_report(y_test, predicted)  \n",
    "rf_precision = metrics.precision_score(y_test, predicted, pos_label=1)  \n",
    "rf_recall = metrics.recall_score(y_test, predicted, pos_label=1)  \n",
    "rf_f1 = metrics.f1_score(y_test, predicted, pos_label=1)"
   ]
  },
  {
   "cell_type": "code",
   "execution_count": 103,
   "metadata": {},
   "outputs": [
    {
     "name": "stdout",
     "output_type": "stream",
     "text": [
      "      Model Precision  Accuracy     recall        F1\n2      r.f.  0.941406  0.943273    0.63089  0.755486\n1        GB   0.65528    0.9056   0.627976  0.641337\n0  Logistic  0.567568    0.8716     0.1875  0.281879\n3       SVC     0.625    0.8704  0.0892857   0.15625\n4     Bayes     0.625    0.8704  0.0892857   0.15625\n"
     ]
    }
   ],
   "source": [
    "# Model comparison\n",
    "model = dict({  \n",
    "  'Model': np.array(['Logistic', 'GB', 'r.f.', 'SVC',  'Bayes']),\n",
    "  'Accuracy' : np.array([lrf_accuracy, gbc_accuracy, rf_accuracy, svm_accuracy,  bayes_accuracy]),\n",
    "  'Precision': np.array([lrf_precision, gbc_precision, rf_precision, svm_precision, bayes_precision]),\n",
    "  'recall' : np.array([lrf_recall, gbc_recall, rf_recall, svm_recall,  bayes_recall]),\n",
    "  'F1' : np.array([lrf_f1,gbc_f1,rf_f1, svm_f1,bayes_f1])\n",
    "})\n",
    "models = pd.DataFrame.from_dict(model, orient='index')\n",
    "models = models.transpose()\n",
    "# Print table and sort by test precision\n",
    "print(models[['Model','Precision','Accuracy','recall','F1']].sort_values(by='F1', ascending=False))\n"
   ]
  },
  {
   "cell_type": "markdown",
   "metadata": {},
   "source": [
    "We found that Random Forest Classifier works the best amoung all, now we can check its performance by reducing the features  "
   ]
  },
  {
   "cell_type": "code",
   "execution_count": 104,
   "metadata": {},
   "outputs": [
    {
     "name": "stdout",
     "output_type": "stream",
     "text": [
      "Score Estimate:  0.94\nAccuracy:   0.934909090909\n"
     ]
    },
    {
     "name": "stdout",
     "output_type": "stream",
     "text": [
      "             precision    recall  f1-score   support\n\n          0       0.94      0.99      0.96      2368\n          1       0.91      0.59      0.72       382\n\navg / total       0.93      0.93      0.93      2750\n\n"
     ]
    },
    {
     "data": {
      "image/png": "[encoded data removed]",
      "text/plain": [
       "<matplotlib.figure.Figure at 0xdaf7f60>"
      ]
     },
     "metadata": {},
     "output_type": "display_data"
    }
   ],
   "source": [
    "feature_names  = [\"state\", \"international plan\", \"voice mail plan\", \"number vmail messages\", \"total day charge\", \"total eve charge\", \n",
    "                            \"total night charge\",  \"total intl charge\",\"customer service calls\"]\n",
    "\n",
    "X_train, X_test, y_train, y_test = train_test_split(train_set[feature_names],train_set.churn, test_size=0.55,random_state=123456)\n",
    "rf = RandomForestClassifier(n_estimators=100, oob_score=True, random_state=123456)\n",
    "y_train = y_train.astype('int')\n",
    "y_test = y_test.astype('int')\n",
    "rf.fit(X_train, y_train)\n",
    "predicted = rf.predict(X_test)\n",
    "accuracy = accuracy_score(y_test, predicted)\n",
    "print(\"Score Estimate:  \" + str(rf.oob_score_))\n",
    "print(\"Accuracy:   \" + str(accuracy))\n",
    "cm = pd.DataFrame(confusion_matrix(y_test, predicted), columns= churn_col, index=churn_col)\n",
    "sns.heatmap(cm, annot=True)\n",
    "print(metrics.classification_report(y_test, predicted))"
   ]
  },
  {
   "cell_type": "markdown",
   "metadata": {},
   "source": [
    "Looking at above result we can say initil selected of Features were correct"
   ]
  },
  {
   "cell_type": "markdown",
   "metadata": {},
   "source": [
    "### Predicting the churn on unseen data"
   ]
  },
  {
   "cell_type": "code",
   "execution_count": 105,
   "metadata": {},
   "outputs": [
    {
     "name": "stdout",
     "output_type": "stream",
     "text": [
      "state                       0\naccount length              0\narea code                   0\nphone number                0\ninternational plan          0\nvoice mail plan             0\nnumber vmail messages       0\ntotal day minutes           0\ntotal day calls             0\ntotal day charge            0\ntotal eve minutes           0\ntotal eve calls             0\ntotal eve charge            0\ntotal night minutes         0\ntotal night calls           0\ntotal night charge          0\ntotal intl minutes          0\ntotal intl calls            0\ntotal intl charge           0\ncustomer service calls      0\n                          335\ndtype: int64\n"
     ]
    }
   ],
   "source": [
    "directory = \"D:\\churn_modeling\"\n",
    "churn_p_df = pd.read_csv(directory + \"\\dataset\\check.csv\")\n",
    "final_df = pd.read_csv(directory + \"\\dataset\\check.csv\")\n",
    "print(churn_p_df.isnull().sum())\n"
   ]
  },
  {
   "cell_type": "code",
   "execution_count": 106,
   "metadata": {},
   "outputs": [],
   "source": [
    "# First we need to convert our String labels to Numerical value ie  YES as 1 and NO as 0 \n",
    "try:\n",
    "    churn_p_df['voice mail plan'] = churn_p_df['voice mail plan'].replace([\" yes\", \" no\"], [1, 0])\n",
    "    churn_p_df['international plan'] = churn_p_df['international plan'].replace([\" yes\", \" no\"], [1, 0])\n",
    "    state_list = list(churn_p_df['state'].unique())\n",
    "    churn_p_df.state = churn_p_df.state.apply(state_list.index)\n",
    "    \n",
    "except TypeError:\n",
    "    print(\"Already converted\")"
   ]
  },
  {
   "cell_type": "code",
   "execution_count": 107,
   "metadata": {},
   "outputs": [],
   "source": [
    "heads = [\"state\", \"international plan\", \"voice mail plan\", \"number vmail messages\", \"total day calls\",\n",
    "                            \"total day charge\", \"total eve calls\", \"total eve charge\", \"total night calls\",\n",
    "                            \"total night charge\", \"total intl calls\", \"total intl charge\",\"customer service calls\"]\n",
    "\n",
    "p_set = churn_p_df[heads]"
   ]
  },
  {
   "cell_type": "code",
   "execution_count": 108,
   "metadata": {},
   "outputs": [
    {
     "name": "stdout",
     "output_type": "stream",
     "text": [
      "   state  international plan  voice mail plan  number vmail messages  \\\n0      0                   0                0                      0   \n1      1                   0                0                      0   \n\n   total day calls  total day charge  total eve calls  total eve charge  \\\n0               70             35.90              122             21.48   \n1               69             34.68              110             19.13   \n\n   total night calls  total night charge  total intl calls  total intl charge  \\\n0                104               10.16                 3               3.32   \n1                 85               10.81                 5               2.59   \n\n   customer service calls  \n0                       0  \n1                       1  \n"
     ]
    }
   ],
   "source": [
    "print(p_set.head(2))"
   ]
  },
  {
   "cell_type": "markdown",
   "metadata": {},
   "source": [
    "### Predicting the churn "
   ]
  },
  {
   "cell_type": "code",
   "execution_count": 110,
   "metadata": {},
   "outputs": [
    {
     "name": "stdout",
     "output_type": "stream",
     "text": [
      "  state  account length  area code phone number international plan  \\\n0    CO              71        415     332-9896                 no   \n1    KY              76        415     407-8575                 no   \n2    NJ              87        510     387-2799                 no   \n3    IL             117        408     373-9108                 no   \n4    WA             177        415     345-3947                 no   \n\n  voice mail plan  number vmail messages  total day minutes  total day calls  \\\n0              no                      0              211.2               70   \n1              no                      0              204.0               69   \n2              no                      0              223.2              109   \n3              no                      0              119.0               82   \n4              no                      0              266.1               91   \n\n   total day charge  ...    total eve charge  total night minutes  \\\n0             35.90  ...               21.48                225.8   \n1             34.68  ...               19.13                240.3   \n2             37.94  ...               10.84                289.3   \n3             20.23  ...               15.94                189.3   \n4             45.24  ...               19.14                224.7   \n\n   total night calls  total night charge  total intl minutes  \\\n0                104               10.16                12.3   \n1                 85               10.81                 9.6   \n2                 83               13.02                14.5   \n3                 97                8.52                11.5   \n4                 58               10.11                 8.9   \n\n   total intl calls  total intl charge  customer service calls      churn  \n0                 3               3.32                       0 NaN      0  \n1                 5               2.59                       1 NaN      0  \n2                 4               3.92                       3 NaN      0  \n3                 3               3.11                       1 NaN      0  \n4                 8               2.40                       3 NaN      1  \n\n[5 rows x 22 columns]\n"
     ]
    }
   ],
   "source": [
    "# Rerun the required model: Random forest Classifier   \n",
    "feature_names  = [\"state\", \"international plan\", \"voice mail plan\", \"number vmail messages\", \"total day calls\",\n",
    "                            \"total day charge\", \"total eve calls\", \"total eve charge\", \"total night calls\",\n",
    "                            \"total night charge\", \"total intl calls\", \"total intl charge\",\"customer service calls\"]\n",
    "\n",
    "X_train, X_test, y_train, y_test = train_test_split(train_set[feature_names],train_set.churn, test_size=0.55,random_state=123456)\n",
    "rf = RandomForestClassifier(n_estimators=100, oob_score=True, random_state=123456)\n",
    "y_train = y_train.astype('int')\n",
    "y_test = y_test.astype('int')\n",
    "rf.fit(X_train, y_train)\n",
    "predicted = rf.predict(p_set)\n",
    "final_df['churn'] = pd.Series(predicted, index=final_df.index)\n",
    "print(final_df.head())\n"
   ]
  }
 ],
 "metadata": {
  "kernelspec": {
   "display_name": "Python 2",
   "language": "python",
   "name": "python2"
  },
  "language_info": {
   "codemirror_mode": {
    "name": "ipython",
    "version": 2
   },
   "file_extension": ".py",
   "mimetype": "text/x-python",
   "name": "python",
   "nbconvert_exporter": "python",
   "pygments_lexer": "ipython2",
   "version": "2.7.6"
  }
 },
 "nbformat": 4,
 "nbformat_minor": 0
}
