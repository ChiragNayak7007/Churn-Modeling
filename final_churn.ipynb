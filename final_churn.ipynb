{
 "cells": [
  {
   "cell_type": "markdown",
   "metadata": {
    "collapsed": true
   },
   "source": [
    "# Churn Modeling and Analysis"
   ]
  },
  {
   "cell_type": "code",
   "execution_count": 43,
   "metadata": {},
   "outputs": [],
   "source": [
    "import pandas as pd\n",
    "import  numpy as np\n",
    "from sklearn.linear_model import LogisticRegression\n",
    "#from sklearn import preprocessing, cross_validation\n",
    "from sklearn.ensemble import GradientBoostingClassifier\n",
    "from sklearn.model_selection import train_test_split\n",
    "import matplotlib.pyplot as plt\n",
    "from matplotlib import style\n",
    "from sklearn.metrics import confusion_matrix\n",
    "import seaborn as sns\n",
    "from sklearn.metrics import accuracy_score\n",
    "from sklearn.svm import LinearSVC\n",
    "style.use('ggplot')\n",
    "%matplotlib inline\n",
    "import plotly.plotly as py\n",
    "from sklearn.ensemble import RandomForestClassifier\n",
    "import plotly.tools as tls\n",
    "from sklearn.metrics import confusion_matrix\n",
    "import seaborn as sns\n",
    "from sklearn.naive_bayes import GaussianNB\n",
    "from sklearn import metrics\n",
    "from IPython.display import display, HTML\n",
    "from sklearn.metrics import roc_curve, auc,roc_auc_score"
   ]
  },
  {
   "cell_type": "markdown",
   "metadata": {},
   "source": [
    "### Loading dataset"
   ]
  },
  {
   "cell_type": "code",
   "execution_count": 44,
   "metadata": {},
   "outputs": [
    {
     "name": "stdout",
     "output_type": "stream",
     "text": [
      "(5000, 21)\n"
     ]
    }
   ],
   "source": [
    "directory = \"D:\\churn-modeling\"\n",
    "churn_train_df = pd.read_csv(directory + \"\\dataset\\churn.csv\")\n",
    "print(churn_train_df.shape)"
   ]
  },
  {
   "cell_type": "markdown",
   "metadata": {},
   "source": [
    "### Understanding the data in dataset: Data Exploration "
   ]
  },
  {
   "cell_type": "markdown",
   "metadata": {},
   "source": [
    "Data exploration is the first step in data analysis and typically involves summarizing the main characteristics of a dataset. It is commonly conducted using visual analytics tools, but can also be done in more advanced statistical software.\n",
    "\n",
    "We can do data exploration in Python, R which are advance statistical software.\n",
    "In general and easy way is to use visual analytics tool/ reporting tools like PowerBI, Tableau, Zoho, Excel, etc.   "
   ]
  },
  {
   "cell_type": "markdown",
   "metadata": {},
   "source": [
    "Step 1) Understand all the colums in dataset\n",
    "  \n",
    "This helps in identify the required features which should be used for modeling\n",
    "\n",
    "Lets look at the headers in the data set\n",
    "\n",
    "\n"
   ]
  },
  {
   "cell_type": "code",
   "execution_count": 45,
   "metadata": {},
   "outputs": [],
   "source": [
    "# state, -> They are state code (2 character)\n",
    "# account length,\n",
    "# area code,\n",
    "# phone number, -> can be used as customer identifier (not part of feature)\n",
    "# international plan, => yes no\n",
    "# voice mail  plan,  => yes no\n",
    "# number vmail messages,   -> vmail is voice-mail\n",
    "# total day minutes,\n",
    "# total day calls,\n",
    "# total day charge,\n",
    "# total eve minutes,\n",
    "# total eve calls,\n",
    "# total eve charge,\n",
    "# total night minutes,\n",
    "# total night calls,\n",
    "# total night charge,\n",
    "# total intl minutes,\n",
    "# total intl calls,\n",
    "# total intl charge,   intl -> international\n",
    "# customer service calls, -> call made to customer service center\n",
    "# churn -> Label which we need to predict in future\n"
   ]
  },
  {
   "cell_type": "markdown",
   "metadata": {},
   "source": [
    "Step 2) Feature Analysis \n",
    "  \n",
    "This helps in identify the required features, completeness of data, clearity of data, making statergy to improve data quality etc.  \n",
    "\n"
   ]
  },
  {
   "cell_type": "code",
   "execution_count": 46,
   "metadata": {},
   "outputs": [
    {
     "name": "stdout",
     "output_type": "stream",
     "text": [
      "state                     0\naccount length            0\narea code                 0\nphone number              0\ninternational plan        0\nvoice mail plan           0\nnumber vmail messages     0\ntotal day minutes         0\ntotal day calls           0\ntotal day charge          0\ntotal eve minutes         0\ntotal eve calls           0\ntotal eve charge          0\ntotal night minutes       0\ntotal night calls         0\ntotal night charge        0\ntotal intl minutes        0\ntotal intl calls          0\ntotal intl charge         0\ncustomer service calls    0\nchurn                     4\ndtype: int64\n"
     ]
    }
   ],
   "source": [
    "# check the training set for any null value if any\n",
    "print(churn_train_df.isnull().sum())"
   ]
  },
  {
   "cell_type": "code",
   "execution_count": 47,
   "metadata": {},
   "outputs": [],
   "source": [
    "# Now for this data set we don't have much null value so we don't have much issues with data completeness quality\n",
    "# if in case we have some/many NULLs the we need to fill the NULLs with some value that depends on the type of data\n",
    "# which we need to identify by going through data and understanding required pattern and fill missing data.\n",
    "# There are many approach \n",
    "# 1) Manually adding required details from actual data gather from research \n",
    "# 2) We may replace by some aggregation \n",
    "# 3) We may fill with outlander  value such as -99999 if int or some default value\n",
    "# Mostly try to fill the values if possible rather then removing those columns/ rows\n",
    "\n",
    "# In our case only one value is missing from churn column which we can easily assume that that client has churned \n",
    "\n",
    "churn_train_df.churn.fillna('TRUE', inplace = True)\n"
   ]
  },
  {
   "cell_type": "code",
   "execution_count": 48,
   "metadata": {},
   "outputs": [
    {
     "name": "stdout",
     "output_type": "stream",
     "text": [
      "state                     0\naccount length            0\narea code                 0\nphone number              0\ninternational plan        0\nvoice mail plan           0\nnumber vmail messages     0\ntotal day minutes         0\ntotal day calls           0\ntotal day charge          0\ntotal eve minutes         0\ntotal eve calls           0\ntotal eve charge          0\ntotal night minutes       0\ntotal night calls         0\ntotal night charge        0\ntotal intl minutes        0\ntotal intl calls          0\ntotal intl charge         0\ncustomer service calls    0\nchurn                     0\ndtype: int64\n"
     ]
    }
   ],
   "source": [
    "# Again check the training set for any null value if any\n",
    "print(churn_train_df.isnull().sum())"
   ]
  },
  {
   "cell_type": "markdown",
   "metadata": {},
   "source": [
    "### Preparing the data for research and modeling "
   ]
  },
  {
   "cell_type": "code",
   "execution_count": 49,
   "metadata": {},
   "outputs": [],
   "source": [
    "# First we need to convert our String labels to Numerical value ie  YES as 1 and NO as 0 likewise TRUE as 1, FALSE as 0\n",
    "try:\n",
    "    churn_train_df['voice mail plan'] = churn_train_df['voice mail plan'].replace([\"yes\", \"no\"], [1, 0])\n",
    "    churn_train_df['international plan'] = churn_train_df['international plan'].replace([\"yes\", \"no\"], [1, 0])\n",
    "    churn_train_df['churn'] = churn_train_df['churn'].replace([\"TRUE\", \"FALSE\",\" TRUE\", \" FALSE\",\" TRUE \", \" FALSE \"],\n",
    "                                                              [1,0,1,0,1,0])\n",
    "\n",
    "    # converting boolean column to 1 AND 0\n",
    "    churn_train_df.churn = churn_train_df.churn * 1\n",
    "except TypeError:\n",
    "    print(\"Already converted\")"
   ]
  },
  {
   "cell_type": "code",
   "execution_count": 50,
   "metadata": {},
   "outputs": [],
   "source": [
    "# Now need to convert state  to numeric as this my also play important role in data modeling\n",
    "state_list = list(churn_train_df['state'].unique())\n",
    "churn_train_df.state = churn_train_df.state.apply(state_list.index)"
   ]
  },
  {
   "cell_type": "markdown",
   "metadata": {},
   "source": [
    "### We need to check how balance is this data set "
   ]
  },
  {
   "cell_type": "code",
   "execution_count": 51,
   "metadata": {},
   "outputs": [
    {
     "name": "stdout",
     "output_type": "stream",
     "text": [
      "people churn: 14 %\n"
     ]
    }
   ],
   "source": [
    "col = churn_train_df.columns.tolist()\n",
    "print(\"people churn: {} %\".format(round(float(len(churn_train_df[churn_train_df['churn'] == 1])) / len(churn_train_df) * 100), 3))"
   ]
  },
  {
   "cell_type": "markdown",
   "metadata": {},
   "source": [
    "#### The data set is unbalanced "
   ]
  },
  {
   "cell_type": "code",
   "execution_count": 52,
   "metadata": {},
   "outputs": [],
   "source": [
    "# Possible columns which we can consider as feature are state,international plan,voice mail plan,day calls,day charges\n",
    "# eve calls,eve charges, night calls, night charges, intl calls,intl charges,customer service calls,num vmail messages\n",
    "\n",
    "heads = [\"state\", \"international plan\", \"voice mail plan\", \"number vmail messages\", \"total day calls\",\n",
    "                            \"total day charge\", \"total eve calls\", \"total eve charge\", \"total night calls\",\n",
    "                            \"total night charge\", \"total intl calls\", \"total intl charge\",\"customer service calls\",\n",
    "                            \"churn\"]\n",
    "\n",
    "train_set = churn_train_df[heads]\n"
   ]
  },
  {
   "cell_type": "code",
   "execution_count": 53,
   "metadata": {},
   "outputs": [
    {
     "name": "stdout",
     "output_type": "stream",
     "text": [
      "   state  account length  area code phone number  international plan  \\\n0      0             128        415     382-4657                   0   \n1      1             107        415     371-7191                   0   \n2      2             137        415     358-1921                   0   \n\n   voice mail plan  number vmail messages  total day minutes  total day calls  \\\n0                1                     25              265.1              110   \n1                1                     26              161.6              123   \n2                0                      0              243.4              114   \n\n   total day charge  ...    total eve calls  total eve charge  \\\n0             45.07  ...                 99             16.78   \n1             27.47  ...                103             16.62   \n2             41.38  ...                110             10.30   \n\n   total night minutes  total night calls  total night charge  \\\n0                244.7                 91               11.01   \n1                254.4                103               11.45   \n2                162.6                104                7.32   \n\n   total intl minutes  total intl calls  total intl charge  \\\n0                10.0                 3               2.70   \n1                13.7                 3               3.70   \n2                12.2                 5               3.29   \n\n   customer service calls  churn  \n0                       1      0  \n1                       1      0  \n2                       0      0  \n\n[3 rows x 21 columns]\n"
     ]
    }
   ],
   "source": [
    "print(churn_train_df.head(3))"
   ]
  },
  {
   "cell_type": "code",
   "execution_count": 54,
   "metadata": {},
   "outputs": [
    {
     "name": "stdout",
     "output_type": "stream",
     "text": [
      "[0 1]\n[1 0]\n[0 1]\n[ 0  1  2  3  4  5  6  7  8  9 10 11 12 13 14 15 16 17 18 19 20 21 22 23 24\n 25 26 27 28 29 30 31 32 33 34 35 36 37 38 39 40 41 42 43 44 45 46 47 48 49\n 50]\n"
     ]
    }
   ],
   "source": [
    "# Always Check if the data transformation happened as required  \n",
    "\n",
    "print(churn_train_df['international plan'].unique())\n",
    "print(churn_train_df['voice mail plan'].unique())\n",
    "print(churn_train_df['churn'].unique())\n",
    "print(churn_train_df['state'].unique())\n"
   ]
  },
  {
   "cell_type": "markdown",
   "metadata": {},
   "source": [
    "## Understanding Data\n"
   ]
  },
  {
   "cell_type": "code",
   "execution_count": 56,
   "metadata": {},
   "outputs": [
    {
     "data": {
      "image/png": "[encoded data removed]",
      "text/plain": [
       "<matplotlib.figure.Figure at 0xb37d908>"
      ]
     },
     "metadata": {},
     "output_type": "display_data"
    }
   ],
   "source": [
    "state_churn = train_set.groupby(['state', 'churn'], sort=True).size().reset_index(name='Count')\n",
    "\n",
    "state_churn_0 = state_churn[state_churn['churn'] == 0].reset_index()\n",
    "del state_churn_0['index']\n",
    "\n",
    "state_churn_1 = state_churn[state_churn['churn'] == 1].reset_index()\n",
    "del state_churn_1['index']\n",
    "\n",
    "ax = state_churn_1['Count'].plot(kind='bar', title =\"Customer Churn based on States\", figsize=(12, 8), fontsize=12)\n",
    "ax.set_xlabel(\"States\", fontsize=12)\n",
    "ax.set_ylabel(\"Count of Churn\", fontsize=12)\n",
    "plt.show()"
   ]
  },
  {
   "cell_type": "code",
   "execution_count": 22,
   "metadata": {},
   "outputs": [
    {
     "data": {
      "image/png": "[encoded data removed]",
      "text/plain": [
       "<matplotlib.figure.Figure at 0xa8d5a20>"
      ]
     },
     "metadata": {},
     "output_type": "display_data"
    }
   ],
   "source": [
    "\n",
    "ax = state_churn_0['Count'].plot(kind='bar', title =\"Loyal Customer based on States\", figsize=(12, 8), fontsize=12)\n",
    "ax.set_xlabel(\"States\", fontsize=12)\n",
    "ax.set_ylabel(\"Count of Alive\", fontsize=12)\n",
    "plt.tight_layout()"
   ]
  },
  {
   "cell_type": "markdown",
   "metadata": {},
   "source": [
    "### Best way is to use some Visualization tools to quickly understand relations But we can also use matplotlib - python library to identify patterns.  "
   ]
  },
  {
   "cell_type": "markdown",
   "metadata": {},
   "source": [
    "# Modeling using different available Models"
   ]
  },
  {
   "cell_type": "markdown",
   "metadata": {},
   "source": [
    "### As it dataset is unbalanced so we can't completely depend on accuracy, as in worst case the accuracy of data set will give 86% accuracy due to  Accuracy paradox"
   ]
  },
  {
   "cell_type": "markdown",
   "metadata": {},
   "source": [
    "Model Evaluation Basics\n",
    "The formula for accuracy is: \n",
    " A(M) = (TN+TP)/(TN+TP+FP+FN)\n",
    "\n",
    "TP is the number of true positives : Predicted as churned and they do\n",
    "\n",
    "TN is the number of true negatives: Predicted as remaining and they do\n",
    "\n",
    "FP is the number of false positives: Predicted as they will churn, but they don’t\n",
    "\n",
    "FN is the number of false negatives: Predicted as won’t churner but they churn\n",
    "\n",
    "When working with unbalanced dataset we can’t completely depend on Accuracy alone, we need to check the result of other matrix along with accuracy and they are:\n",
    "\n",
    "• Sensitivity/Recall: how well the model recalls/identifies those that will leave. AKA the true positive rate\n",
    "\n",
    "• Specificity: how well the model identifies those that will stay. \n",
    "\n",
    "• Precision: This talks about how believable is the model? A low precision model will alarm you to those who are leaving that are actually staying.\n",
    "\n",
    "• F1 score:It is the harmonic mean between precision and recall or the balance. \n",
    "\n",
    " "
   ]
  },
  {
   "cell_type": "markdown",
   "metadata": {},
   "source": [
    "### Linear Support Vector Classifier "
   ]
  },
  {
   "cell_type": "code",
   "execution_count": 57,
   "metadata": {},
   "outputs": [
    {
     "name": "stdout",
     "output_type": "stream",
     "text": [
      "Linear SVC\nAccuracy:   0.868\n"
     ]
    },
    {
     "name": "stdout",
     "output_type": "stream",
     "text": [
      "Note \n 0: Alive and 1:Churned\n             precision    recall  f1-score   support\n\n          0       0.87      1.00      0.93      2164\n          1       0.62      0.05      0.09       336\n\navg / total       0.84      0.87      0.82      2500\n\nAUC =  0.521498987765\n"
     ]
    },
    {
     "data": {
      "image/png": "[encoded data removed]",
      "text/plain": [
       "<matplotlib.figure.Figure at 0xb31a6d8>"
      ]
     },
     "metadata": {},
     "output_type": "display_data"
    }
   ],
   "source": [
    "from sklearn.svm import LinearSVC\n",
    "\n",
    "feature_names  = [\"state\", \"international plan\", \"voice mail plan\", \"number vmail messages\", \"total day calls\",\n",
    "                            \"total day charge\", \"total eve calls\", \"total eve charge\", \"total night calls\",\n",
    "                            \"total night charge\", \"total intl calls\", \"total intl charge\",\"customer service calls\"]\n",
    "\n",
    "clf_init = None\n",
    "X_train, X_test, y_train, y_test = train_test_split(train_set[feature_names],train_set.churn, test_size=0.50,random_state=123456)\n",
    "clf = LinearSVC(penalty='l2', loss='squared_hinge', dual=True, tol=0.0001, C=1.0, multi_class='ovr', fit_intercept=True, intercept_scaling=1, class_weight=None, verbose=0, random_state=None, max_iter=1000)\n",
    "y_train = y_train.astype('int')\n",
    "y_test = y_test.astype('int')\n",
    "clf.fit(X_train, y_train)\n",
    "churn_col = ['Alive','Churned']\n",
    "predicted = clf.predict(X_test)\n",
    "accuracy = accuracy_score(y_test, predicted)\n",
    "print(\"Linear SVC\")\n",
    "print(\"Accuracy:   \" + str(accuracy))\n",
    "cm = pd.DataFrame(confusion_matrix(y_test, predicted), columns= churn_col, index=churn_col)\n",
    "sns.heatmap(cm, annot=True)\n",
    "print(\"Note \\n 0: Alive and 1:Churned\")\n",
    "print(metrics.classification_report(y_test, predicted))\n",
    "\n",
    "# calculating AUC   \n",
    "lrf_auc = roc_auc_score(y_test ,predicted,average='macro', sample_weight=None)\n",
    "print(\"AUC = \", lrf_auc)\n",
    "\n",
    "# storing matix\n",
    "svm_accuracy = metrics.accuracy_score(y_test, predicted)  \n",
    "svm_confus_matrix = metrics.confusion_matrix(y_test, predicted)  \n",
    "svm_classification_report = metrics.classification_report(y_test, predicted)  \n",
    "svm_precision = metrics.precision_score(y_test, predicted, pos_label=1)  \n",
    "svm_recall = metrics.recall_score(y_test, predicted, pos_label=1)  \n",
    "svm_f1 = metrics.f1_score(y_test, predicted, pos_label=1)\n"
   ]
  },
  {
   "cell_type": "markdown",
   "metadata": {},
   "source": [
    "### Gaussian Naive Bayes Classifier "
   ]
  },
  {
   "cell_type": "code",
   "execution_count": 29,
   "metadata": {},
   "outputs": [
    {
     "name": "stdout",
     "output_type": "stream",
     "text": [
      "Gaussian Naive Bayes Classifier \nAccuracy:   0.86\nNote \n0: Alive and 1:Churned\n             precision    recall  f1-score   support\n\n          0       0.91      0.93      0.92      2164\n          1       0.48      0.41      0.44       336\n\navg / total       0.85      0.86      0.86      2500\n\nAUC =  0.668979953349\n"
     ]
    },
    {
     "data": {
      "image/png": "[encoded data removed]",
      "text/plain": [
       "<matplotlib.figure.Figure at 0xc7aa630>"
      ]
     },
     "metadata": {},
     "output_type": "display_data"
    }
   ],
   "source": [
    "clf_init = None\n",
    "X_train, X_test, y_train, y_test = train_test_split(train_set[feature_names],train_set.churn, test_size=0.50,random_state=123456)\n",
    "gnb = GaussianNB()\n",
    "y_train = y_train.astype('int')\n",
    "y_test = y_test.astype('int')\n",
    "gnb.fit(X_train, y_train)\n",
    "churn_col = ['Alive','Churned']\n",
    "predicted = gnb.predict(X_test)\n",
    "accuracy = accuracy_score(y_test, predicted)\n",
    "print(\"Gaussian Naive Bayes Classifier \")\n",
    "print(\"Accuracy:   \" + str(accuracy))\n",
    "cm = pd.DataFrame(confusion_matrix(y_test, predicted), columns= churn_col, index=churn_col)\n",
    "sns.heatmap(cm, annot=True)\n",
    "print(\"Note \\n0: Alive and 1:Churned\")\n",
    "print(metrics.classification_report(y_test, predicted))\n",
    "\n",
    "# calculating AUC   \n",
    "bayes_auc = roc_auc_score(y_test ,predicted,average='macro', sample_weight=None)\n",
    "print(\"AUC = \", bayes_auc)\n",
    "\n",
    "# storing matrix\n",
    "bayes_accuracy = metrics.accuracy_score(y_test, predicted)  \n",
    "bayes_confus_matrix = metrics.confusion_matrix(y_test, predicted)  \n",
    "bayes_classification_report = metrics.classification_report(y_test, predicted)  \n",
    "bayes_precision = metrics.precision_score(y_test, predicted, pos_label=1)  \n",
    "bayes_recall = metrics.recall_score(y_test, predicted, pos_label=1)  \n",
    "bayes_f1 = metrics.f1_score(y_test, predicted, pos_label=1)"
   ]
  },
  {
   "cell_type": "markdown",
   "metadata": {},
   "source": [
    "### Gradient Boosting Classifier\n"
   ]
  },
  {
   "cell_type": "code",
   "execution_count": 41,
   "metadata": {},
   "outputs": [
    {
     "name": "stdout",
     "output_type": "stream",
     "text": [
      "Gradient Boosting Classifier\nAccuracy:   0.9412\nNote \n0: Alive and 1:Churned\n             precision    recall  f1-score   support\n\n          0       0.95      0.98      0.97      2164\n          1       0.84      0.69      0.76       336\n\navg / total       0.94      0.94      0.94      2500\n\nAUC =  0.836559831881\n"
     ]
    },
    {
     "data": {
      "image/png": "[encoded data removed]",
      "text/plain": [
       "<matplotlib.figure.Figure at 0xb31a828>"
      ]
     },
     "metadata": {},
     "output_type": "display_data"
    }
   ],
   "source": [
    "feature_names  = [\"state\", \"international plan\", \"voice mail plan\", \"number vmail messages\", \"total day calls\",\n",
    "                            \"total day charge\", \"total eve calls\", \"total eve charge\", \"total night calls\",\n",
    "                            \"total night charge\", \"total intl calls\", \"total intl charge\",\"customer service calls\"]\n",
    "\n",
    "clf_init = None\n",
    "X_train, X_test, y_train, y_test = train_test_split(train_set[feature_names],train_set.churn, test_size=0.50,random_state=123456)\n",
    "\n",
    "clf = GradientBoostingClassifier(loss='deviance', learning_rate=0.2,\n",
    "                             n_estimators=2000, subsample=0.3,\n",
    "                             min_samples_split=3,\n",
    "                             min_samples_leaf=1,\n",
    "                             max_depth=50,\n",
    "                             init=clf_init,\n",
    "                             random_state=None,\n",
    "                             max_features=None,\n",
    "                             verbose=0)\n",
    "y_train = y_train.astype('int')\n",
    "y_test = y_test.astype('int')\n",
    "\n",
    "clf.fit(X_train, y_train)\n",
    "\n",
    "predicted = clf.predict(X_test)\n",
    "accuracy = accuracy_score(y_test, predicted)\n",
    "print(\"Gradient Boosting Classifier\")\n",
    "print(\"Accuracy:   \" + str(accuracy))\n",
    "cm = pd.DataFrame(confusion_matrix(y_test, predicted), columns= churn_col, index=churn_col)\n",
    "sns.heatmap(cm, annot=True)\n",
    "print(\"Note \\n0: Alive and 1:Churned\")\n",
    "print(metrics.classification_report(y_test, predicted))\n",
    "\n",
    "# calculating AUC   \n",
    "gnb_auc = roc_auc_score(y_test ,predicted,average='macro', sample_weight=None)\n",
    "print(\"AUC = \", gnb_auc)\n",
    "\n",
    "# storing matrix\n",
    "gbc_accuracy = metrics.accuracy_score(y_test, predicted)  \n",
    "gbc_confus_matrix = metrics.confusion_matrix(y_test, predicted)  \n",
    "gbc_classification_report = metrics.classification_report(y_test, predicted)  \n",
    "gbc_precision = metrics.precision_score(y_test, predicted, pos_label=1)  \n",
    "gbc_recall = metrics.recall_score(y_test, predicted, pos_label=1)  \n",
    "gbc_f1 = metrics.f1_score(y_test, predicted, pos_label=1)"
   ]
  },
  {
   "cell_type": "markdown",
   "metadata": {},
   "source": [
    "### Logistic Regression as Classifier "
   ]
  },
  {
   "cell_type": "code",
   "execution_count": 35,
   "metadata": {},
   "outputs": [
    {
     "name": "stdout",
     "output_type": "stream",
     "text": [
      "Logistic Regression Classifier\nAccuracy:   0.872\nNote \n0: Alive and 1:Churned\n             precision    recall  f1-score   support\n\n          0       0.89      0.98      0.93      2164\n          1       0.57      0.18      0.28       336\n\navg / total       0.84      0.87      0.84      2500\n\nAUC =  0.581633438958\n"
     ]
    },
    {
     "data": {
      "image/png": "[encoded data removed]",
      "text/plain": [
       "<matplotlib.figure.Figure at 0xacdab38>"
      ]
     },
     "metadata": {},
     "output_type": "display_data"
    }
   ],
   "source": [
    "clf_init = LogisticRegression(penalty='l1', dual=False, tol=0.001, C=1.4, fit_intercept=True, intercept_scaling=1, class_weight=None, random_state=None, solver='liblinear', max_iter=200, multi_class='ovr', verbose=0, warm_start=False, n_jobs=1)\n",
    "clf_init.fit(X_train, y_train)\n",
    "predicted = clf_init.predict(X_test)\n",
    "accuracy = accuracy_score(y_test, predicted)\n",
    "print(\"Logistic Regression Classifier\")\n",
    "print(\"Accuracy:   \" + str(accuracy))\n",
    "cm = pd.DataFrame(confusion_matrix(y_test, predicted), columns= churn_col, index=churn_col)\n",
    "sns.heatmap(cm, annot=True)\n",
    "print(\"Note \\n0: Alive and 1:Churned\")\n",
    "print(metrics.classification_report(y_test, predicted))\n",
    "\n",
    "# calculating AUC   \n",
    "lr_auc = roc_auc_score(y_test ,predicted,average='macro', sample_weight=None)\n",
    "print(\"AUC = \", lr_auc)\n",
    "\n",
    "# Store metrics\n",
    "lrf_accuracy = metrics.accuracy_score(y_test, predicted)  \n",
    "lrf_confus_matrix = metrics.confusion_matrix(y_test, predicted)  \n",
    "lrf_classification_report = metrics.classification_report(y_test, predicted)  \n",
    "lrf_precision = metrics.precision_score(y_test, predicted, pos_label=1)  \n",
    "lrf_recall = metrics.recall_score(y_test, predicted, pos_label=1)  \n",
    "lrf_f1 = metrics.f1_score(y_test, predicted, pos_label=1)\n"
   ]
  },
  {
   "cell_type": "markdown",
   "metadata": {},
   "source": [
    "### Random Forest Classifier "
   ]
  },
  {
   "cell_type": "code",
   "execution_count": 32,
   "metadata": {},
   "outputs": [
    {
     "name": "stdout",
     "output_type": "stream",
     "text": [
      "Random Forest Classifier\nScore Estimate:  0.952\nAccuracy:   0.943272727273\n"
     ]
    },
    {
     "name": "stdout",
     "output_type": "stream",
     "text": [
      "Note\n 0: Alive and 1:Churned\n             precision    recall  f1-score   support\n\n          0       0.94      0.99      0.97      2368\n          1       0.94      0.63      0.76       382\n\navg / total       0.94      0.94      0.94      2750\n\nAUC =  0.812277796448\n"
     ]
    },
    {
     "data": {
      "image/png": "[encoded data removed]",
      "text/plain": [
       "<matplotlib.figure.Figure at 0xb353128>"
      ]
     },
     "metadata": {},
     "output_type": "display_data"
    }
   ],
   "source": [
    "feature_names  = [\"state\", \"international plan\", \"voice mail plan\", \"number vmail messages\", \"total day calls\",\n",
    "                            \"total day charge\", \"total eve calls\", \"total eve charge\", \"total night calls\",\n",
    "                            \"total night charge\", \"total intl calls\", \"total intl charge\",\"customer service calls\"]\n",
    "\n",
    "X_train, X_test, y_train, y_test = train_test_split(train_set[feature_names],train_set.churn, test_size=0.55,random_state=123456)\n",
    "rf = RandomForestClassifier(n_estimators=100, oob_score=True, random_state=123456)\n",
    "y_train = y_train.astype('int')\n",
    "y_test = y_test.astype('int')\n",
    "rf.fit(X_train, y_train)\n",
    "predicted = rf.predict(X_test)\n",
    "accuracy = accuracy_score(y_test, predicted)\n",
    "print(\"Random Forest Classifier\")\n",
    "print(\"Score Estimate:  \" + str(rf.oob_score_))\n",
    "print(\"Accuracy:   \" + str(accuracy))\n",
    "cm = pd.DataFrame(confusion_matrix(y_test, predicted), columns= churn_col, index=churn_col)\n",
    "sns.heatmap(cm, annot=True)\n",
    "print(\"Note\\n 0: Alive and 1:Churned\")\n",
    "print(metrics.classification_report(y_test, predicted))\n",
    "\n",
    "# calculating AUC   \n",
    "rf_auc = roc_auc_score(y_test ,predicted,average='macro', sample_weight=None)\n",
    "print(\"AUC = \", rf_auc)\n",
    "\n",
    "\n",
    "# Store metrics\n",
    "rf_accuracy = metrics.accuracy_score(y_test, predicted)  \n",
    "rf_confus_matrix = metrics.confusion_matrix(y_test, predicted)  \n",
    "rf_classification_report = metrics.classification_report(y_test, predicted)  \n",
    "rf_precision = metrics.precision_score(y_test, predicted, pos_label=1)  \n",
    "rf_recall = metrics.recall_score(y_test, predicted, pos_label=1)  \n",
    "rf_f1 = metrics.f1_score(y_test, predicted, pos_label=1)"
   ]
  },
  {
   "cell_type": "code",
   "execution_count": 42,
   "metadata": {},
   "outputs": [
    {
     "data": {
      "text/html": [
       "<div>\n",
       "<style>\n",
       "    .dataframe thead tr:only-child th {\n",
       "        text-align: right;\n",
       "    }\n",
       "\n",
       "    .dataframe thead th {\n",
       "        text-align: left;\n",
       "    }\n",
       "\n",
       "    .dataframe tbody tr th {\n",
       "        vertical-align: top;\n",
       "    }\n",
       "</style>\n",
       "<table border=\"1\" class=\"dataframe\">\n",
       "  <thead>\n",
       "    <tr style=\"text-align: right;\">\n",
       "      <th></th>\n",
       "      <th>Model</th>\n",
       "      <th>AUC</th>\n",
       "      <th>Precision</th>\n",
       "      <th>Accuracy</th>\n",
       "      <th>recall</th>\n",
       "      <th>F1</th>\n",
       "    </tr>\n",
       "  </thead>\n",
       "  <tbody>\n",
       "    <tr>\n",
       "      <th>1</th>\n",
       "      <td>GB</td>\n",
       "      <td>0.84</td>\n",
       "      <td>0.84</td>\n",
       "      <td>0.94</td>\n",
       "      <td>0.69</td>\n",
       "      <td>0.76</td>\n",
       "    </tr>\n",
       "    <tr>\n",
       "      <th>2</th>\n",
       "      <td>r.f.</td>\n",
       "      <td>0.81</td>\n",
       "      <td>0.94</td>\n",
       "      <td>0.94</td>\n",
       "      <td>0.63</td>\n",
       "      <td>0.76</td>\n",
       "    </tr>\n",
       "    <tr>\n",
       "      <th>4</th>\n",
       "      <td>Bayes</td>\n",
       "      <td>0.67</td>\n",
       "      <td>0.48</td>\n",
       "      <td>0.86</td>\n",
       "      <td>0.41</td>\n",
       "      <td>0.44</td>\n",
       "    </tr>\n",
       "    <tr>\n",
       "      <th>0</th>\n",
       "      <td>Logistic</td>\n",
       "      <td>0.58</td>\n",
       "      <td>0.57</td>\n",
       "      <td>0.87</td>\n",
       "      <td>0.18</td>\n",
       "      <td>0.28</td>\n",
       "    </tr>\n",
       "    <tr>\n",
       "      <th>3</th>\n",
       "      <td>SVC</td>\n",
       "      <td>0.55</td>\n",
       "      <td>0.49</td>\n",
       "      <td>0.87</td>\n",
       "      <td>0.12</td>\n",
       "      <td>0.2</td>\n",
       "    </tr>\n",
       "  </tbody>\n",
       "</table>\n",
       "</div>"
      ],
      "text/plain": [
       "<div>\n",
       "<style>\n",
       "    .dataframe thead tr:only-child th {\n",
       "        text-align: right;\n",
       "    }\n",
       "\n",
       "    .dataframe thead th {\n",
       "        text-align: left;\n",
       "    }\n",
       "\n",
       "    .dataframe tbody tr th {\n",
       "        vertical-align: top;\n",
       "    }\n",
       "</style>\n",
       "<table border=\"1\" class=\"dataframe\">\n",
       "  <thead>\n",
       "    <tr style=\"text-align: right;\">\n",
       "      <th></th>\n",
       "      <th>Model</th>\n",
       "      <th>AUC</th>\n",
       "      <th>Precision</th>\n",
       "      <th>Accuracy</th>\n",
       "      <th>recall</th>\n",
       "      <th>F1</th>\n",
       "    </tr>\n",
       "  </thead>\n",
       "  <tbody>\n",
       "    <tr>\n",
       "      <th>1</th>\n",
       "      <td>GB</td>\n",
       "      <td>0.84</td>\n",
       "      <td>0.84</td>\n",
       "      <td>0.94</td>\n",
       "      <td>0.69</td>\n",
       "      <td>0.76</td>\n",
       "    </tr>\n",
       "    <tr>\n",
       "      <th>2</th>\n",
       "      <td>r.f.</td>\n",
       "      <td>0.81</td>\n",
       "      <td>0.94</td>\n",
       "      <td>0.94</td>\n",
       "      <td>0.63</td>\n",
       "      <td>0.76</td>\n",
       "    </tr>\n",
       "    <tr>\n",
       "      <th>4</th>\n",
       "      <td>Bayes</td>\n",
       "      <td>0.67</td>\n",
       "      <td>0.48</td>\n",
       "      <td>0.86</td>\n",
       "      <td>0.41</td>\n",
       "      <td>0.44</td>\n",
       "    </tr>\n",
       "    <tr>\n",
       "      <th>0</th>\n",
       "      <td>Logistic</td>\n",
       "      <td>0.58</td>\n",
       "      <td>0.57</td>\n",
       "      <td>0.87</td>\n",
       "      <td>0.18</td>\n",
       "      <td>0.28</td>\n",
       "    </tr>\n",
       "    <tr>\n",
       "      <th>3</th>\n",
       "      <td>SVC</td>\n",
       "      <td>0.55</td>\n",
       "      <td>0.49</td>\n",
       "      <td>0.87</td>\n",
       "      <td>0.12</td>\n",
       "      <td>0.2</td>\n",
       "    </tr>\n",
       "  </tbody>\n",
       "</table>\n",
       "</div>"
      ]
     },
     "execution_count": 0,
     "metadata": {},
     "output_type": "execute_result"
    }
   ],
   "source": [
    "# Model comparison\n",
    "model = dict({  \n",
    "  'Model': np.array(['Logistic', 'GB      ', 'r.f.    ', 'SVC     ',  'Bayes   ']),\n",
    "  'Accuracy' : np.array([float(\"{:.2f}\".format( lrf_accuracy)), float(\"{:.2f}\".format(gbc_accuracy)), float(\"{:.2f}\".format(rf_accuracy)), float(\"{:.2f}\".format(svm_accuracy)), float(\"{:.2f}\".format(bayes_accuracy))]),\n",
    "  'Precision': np.array([float(\"{:.2f}\".format(lrf_precision)), float(\"{:.2f}\".format(gbc_precision)),float(\"{:.2f}\".format( rf_precision)), float(\"{:.2f}\".format( svm_precision)),float(\"{:.2f}\".format(  bayes_precision))]),\n",
    "  'recall' : np.array([float(\"{:.2f}\".format(lrf_recall)),float(\"{:.2f}\".format( gbc_recall)), float(\"{:.2f}\".format( rf_recall)),float(\"{:.2f}\".format( svm_recall)),float(\"{:.2f}\".format(bayes_recall))]),\n",
    "  'F1' : np.array([float(\"{:.2f}\".format(lrf_f1)),float(\"{:.2f}\".format(gbc_f1)),float(\"{:.2f}\".format(rf_f1)),float(\"{:.2f}\".format(svm_f1)),float(\"{:.2f}\".format(bayes_f1))]),\n",
    "  'AUC' : np.array([float(\"{:.2f}\".format(lr_auc)),float(\"{:.2f}\".format(gnb_auc)),float(\"{:.2f}\".format(rf_auc)),float(\"{:.2f}\".format(lrf_auc)),float(\"{:.2f}\".format(bayes_auc))])\n",
    "})\n",
    "\n",
    "models = pd.DataFrame.from_dict(model, orient='index')\n",
    "models = models.transpose()\n",
    "from IPython.display import display, HTML\n",
    "\n",
    "# Print table and sort by test precision\n",
    "display(models[['Model','AUC','Precision','Accuracy','recall','F1']].sort_values(by='AUC', ascending=False))\n"
   ]
  },
  {
   "cell_type": "markdown",
   "metadata": {},
   "source": [
    "We found that Gradient Boosting Classifier works the best amoung all, as we have hight AUC but we can also go with Random Forest as it is also quite close to Gradient boosting.  "
   ]
  },
  {
   "cell_type": "markdown",
   "metadata": {},
   "source": [
    "### Predicting the churn on unseen data"
   ]
  },
  {
   "cell_type": "code",
   "execution_count": 106,
   "metadata": {},
   "outputs": [
    {
     "name": "stdout",
     "output_type": "stream",
     "text": [
      "state                     0\naccount length            0\narea code                 0\nphone number              0\ninternational plan        0\nvoice mail plan           0\nnumber vmail messages     0\ntotal day minutes         0\ntotal day calls           0\ntotal day charge          0\ntotal eve minutes         0\ntotal eve calls           0\ntotal eve charge          0\ntotal night minutes       0\ntotal night calls         0\ntotal night charge        0\ntotal intl minutes        0\ntotal intl calls          0\ntotal intl charge         0\ncustomer service calls    0\ndtype: int64\n"
     ]
    }
   ],
   "source": [
    "directory = \"D:\\churn-modeling\"\n",
    "churn_p_df = pd.read_csv(directory + \"\\dataset\\check.csv\")\n",
    "final_df = pd.read_csv(directory + \"\\dataset\\check.csv\")\n",
    "print(churn_p_df.isnull().sum())\n"
   ]
  },
  {
   "cell_type": "code",
   "execution_count": 107,
   "metadata": {},
   "outputs": [],
   "source": [
    "# First we need to convert our String labels to Numerical value ie  YES as 1 and NO as 0 \n",
    "try:\n",
    "    churn_p_df['voice mail plan'] = churn_p_df['voice mail plan'].replace([\" yes\", \" no\"], [1, 0])\n",
    "    churn_p_df['international plan'] = churn_p_df['international plan'].replace([\" yes\", \" no\"], [1, 0])\n",
    "    state_list = list(churn_p_df['state'].unique())\n",
    "    churn_p_df.state = churn_p_df.state.apply(state_list.index)\n",
    "    \n",
    "except TypeError:\n",
    "    print(\"Already converted\")"
   ]
  },
  {
   "cell_type": "code",
   "execution_count": 108,
   "metadata": {},
   "outputs": [],
   "source": [
    "heads = [\"state\", \"international plan\", \"voice mail plan\", \"number vmail messages\", \"total day calls\",\n",
    "                            \"total day charge\", \"total eve calls\", \"total eve charge\", \"total night calls\",\n",
    "                            \"total night charge\", \"total intl calls\", \"total intl charge\",\"customer service calls\"]\n",
    "\n",
    "p_set = churn_p_df[heads]\n"
   ]
  },
  {
   "cell_type": "code",
   "execution_count": 109,
   "metadata": {},
   "outputs": [
    {
     "name": "stdout",
     "output_type": "stream",
     "text": [
      "   state  international plan  voice mail plan  number vmail messages  \\\n0      0                   0                0                      0   \n1      1                   0                0                      0   \n\n   total day calls  total day charge  total eve calls  total eve charge  \\\n0               70             35.90              122             21.48   \n1               69             34.68              110             19.13   \n\n   total night calls  total night charge  total intl calls  total intl charge  \\\n0                104               10.16                 3               3.32   \n1                 85               10.81                 5               2.59   \n\n   customer service calls  \n0                       0  \n1                       1  \n"
     ]
    }
   ],
   "source": [
    "print(p_set.head(2))"
   ]
  },
  {
   "cell_type": "markdown",
   "metadata": {},
   "source": [
    "### Predicting the churn "
   ]
  },
  {
   "cell_type": "code",
   "execution_count": 110,
   "metadata": {},
   "outputs": [
    {
     "name": "stdout",
     "output_type": "stream",
     "text": [
      "(335, 20)\n"
     ]
    },
    {
     "name": "stdout",
     "output_type": "stream",
     "text": [
      "  state  account length  area code phone number international plan  \\\n0    CO              71        415     332-9896                 no   \n1    KY              76        415     407-8575                 no   \n2    NJ              87        510     387-2799                 no   \n3    IL             117        408     373-9108                 no   \n4    WA             177        415     345-3947                 no   \n\n  voice mail plan  number vmail messages  total day minutes  total day calls  \\\n0              no                      0              211.2               70   \n1              no                      0              204.0               69   \n2              no                      0              223.2              109   \n3              no                      0              119.0               82   \n4              no                      0              266.1               91   \n\n   total day charge  ...    total eve calls  total eve charge  \\\n0             35.90  ...                122             21.48   \n1             34.68  ...                110             19.13   \n2             37.94  ...                 86             10.84   \n3             20.23  ...                108             15.94   \n4             45.24  ...                 79             19.14   \n\n   total night minutes  total night calls  total night charge  \\\n0                225.8                104               10.16   \n1                240.3                 85               10.81   \n2                289.3                 83               13.02   \n3                189.3                 97                8.52   \n4                224.7                 58               10.11   \n\n   total intl minutes  total intl calls  total intl charge  \\\n0                12.3                 3               3.32   \n1                 9.6                 5               2.59   \n2                14.5                 4               3.92   \n3                11.5                 3               3.11   \n4                 8.9                 8               2.40   \n\n   customer service calls  churn  \n0                       0      0  \n1                       1      0  \n2                       3      0  \n3                       1      0  \n4                       3      1  \n\n[5 rows x 21 columns]\n"
     ]
    }
   ],
   "source": [
    "# Rerun the required model: Random forest Classifier   \n",
    "feature_names  = [\"state\", \"international plan\", \"voice mail plan\", \"number vmail messages\", \"total day calls\",\n",
    "                            \"total day charge\", \"total eve calls\", \"total eve charge\", \"total night calls\",\n",
    "                            \"total night charge\", \"total intl calls\", \"total intl charge\",\"customer service calls\"]\n",
    "\n",
    "clf_init = None\n",
    "X_train, X_test, y_train, y_test = train_test_split(train_set[feature_names],train_set.churn, test_size=0.50,random_state=123456)\n",
    "\n",
    "clf = GradientBoostingClassifier(loss='deviance', learning_rate=0.2,\n",
    "                             n_estimators=100, subsample=0.3,\n",
    "                             min_samples_split=3,\n",
    "                             min_samples_leaf=1,\n",
    "                             max_depth=50,\n",
    "                             init=clf_init,\n",
    "                             random_state=None,\n",
    "                             max_features=None,\n",
    "                             verbose=0)\n",
    "y_train = y_train.astype('int')\n",
    "y_test = y_test.astype('int')\n",
    "print(final_df.shape)\n",
    "clf.fit(X_train, y_train)\n",
    "predicted = clf.predict(p_set)\n",
    "final_df['churn'] = pd.Series(predicted, index=final_df.index)\n",
    "print(final_df.head())\n"
   ]
  },
  {
   "cell_type": "markdown",
   "metadata": {},
   "source": [
    "### Final Prediction can be saved in file and can be used for further decision making"
   ]
  },
  {
   "cell_type": "code",
   "execution_count": 114,
   "metadata": {},
   "outputs": [
    {
     "name": "stdout",
     "output_type": "stream",
     "text": [
      "0      345-3947\n1      385-1464\n2      379-5885\n3      342-1004\n4      405-5513\n5      348-5728\n6      345-4589\n7      349-3005\n8      417-4456\n9      421-1326\n10     359-3423\n11     385-7157\n12     385-4766\n13     341-4873\n14     394-5489\n15     393-8762\n16     366-8939\n17     416-3649\n18     337-1586\n19     415-5476\n20     332-2650\n21     345-6961\n22     346-5992\n23     345-3787\n24     345-1994\n25     369-8574\n26     370-9622\n27     351-2815\n28     378-1884\n29     384-6132\n30     338-6714\n31     334-6129\n32     377-4975\n33     411-6823\n34     408-1913\n35     367-5226\n36     373-7974\n37     345-3614\n38     404-5840\n39     335-7324\n40     417-1488\n41     330-7137\n42     411-5677\n43     409-1856\n44     362-5899\nName: phone number, dtype: object\n"
     ]
    }
   ],
   "source": [
    "churn_list = final_df.loc[final_df['churn'] == 1].reset_index()\n",
    "\n",
    "print(churn_list['phone number'])"
   ]
  },
  {
   "cell_type": "code",
   "execution_count": null,
   "metadata": {},
   "outputs": [],
   "source": []
  }
 ],
 "metadata": {
  "kernelspec": {
   "display_name": "Python 2",
   "language": "python",
   "name": "python2"
  },
  "language_info": {
   "codemirror_mode": {
    "name": "ipython",
    "version": 2
   },
   "file_extension": ".py",
   "mimetype": "text/x-python",
   "name": "python",
   "nbconvert_exporter": "python",
   "pygments_lexer": "ipython2",
   "version": "2.7.6"
  }
 },
 "nbformat": 4,
 "nbformat_minor": 0
}
